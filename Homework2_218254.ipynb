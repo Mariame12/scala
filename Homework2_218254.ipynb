{
 "cells": [
  {
   "cell_type": "code",
   "execution_count": 1,
   "id": "95318734",
   "metadata": {},
   "outputs": [
    {
     "data": {
      "text/plain": [
       "defined \u001b[32mfunction\u001b[39m \u001b[36majouterPrefixe\u001b[39m"
      ]
     },
     "execution_count": 1,
     "metadata": {},
     "output_type": "execute_result"
    }
   ],
   "source": [
    "//fonction prefixe\n",
    "def ajouterPrefixe(prefixe: String): (String => String) = {\n",
    "  (chaine: String) => prefixe + \" \" + chaine\n",
    "}\n"
   ]
  },
  {
   "cell_type": "code",
   "execution_count": 2,
   "id": "9a8d7d1f",
   "metadata": {},
   "outputs": [
    {
     "name": "stdout",
     "output_type": "stream",
     "text": [
      "Hello world\n",
      "Hello Scala\n"
     ]
    },
    {
     "data": {
      "text/plain": [
       "\u001b[36mprefixe\u001b[39m: \u001b[32mString\u001b[39m = \u001b[32m\"Hello\"\u001b[39m\n",
       "\u001b[36majouterHello\u001b[39m: \u001b[32mString\u001b[39m => \u001b[32mString\u001b[39m = ammonite.$sess.cmd0$Helper$$Lambda$2325/0x0000000800bb7840@6ecbf1bd"
      ]
     },
     "execution_count": 2,
     "metadata": {},
     "output_type": "execute_result"
    }
   ],
   "source": [
    "val prefixe = \"Hello\"\n",
    "val ajouterHello = ajouterPrefixe(prefixe)\n",
    "\n",
    "println(ajouterHello(\"world\")) \n",
    "println(ajouterHello(\"Scala\"))\n"
   ]
  },
  {
   "cell_type": "code",
   "execution_count": 3,
   "id": "99949cf9",
   "metadata": {},
   "outputs": [
    {
     "data": {
      "text/plain": [
       "defined \u001b[32mfunction\u001b[39m \u001b[36mverifierPresenceEntier\u001b[39m"
      ]
     },
     "execution_count": 3,
     "metadata": {},
     "output_type": "execute_result"
    }
   ],
   "source": [
    "//fonction liste entiers\n",
    "def verifierPresenceEntier(liste: List[Int]): (Int => Boolean) = {\n",
    "  (entier: Int) => liste.contains(entier)\n",
    "}\n"
   ]
  },
  {
   "cell_type": "code",
   "execution_count": 4,
   "id": "b865eb0f",
   "metadata": {},
   "outputs": [
    {
     "name": "stdout",
     "output_type": "stream",
     "text": [
      "true\n",
      "false\n"
     ]
    },
    {
     "data": {
      "text/plain": [
       "\u001b[36mlisteEntiers\u001b[39m: \u001b[32mList\u001b[39m[\u001b[32mInt\u001b[39m] = \u001b[33mList\u001b[39m(\u001b[32m1\u001b[39m, \u001b[32m2\u001b[39m, \u001b[32m3\u001b[39m, \u001b[32m4\u001b[39m, \u001b[32m5\u001b[39m)\n",
       "\u001b[36mverifierPresence\u001b[39m: \u001b[32mInt\u001b[39m => \u001b[32mBoolean\u001b[39m = ammonite.$sess.cmd2$Helper$$Lambda$2374/0x0000000800bea040@19b2e688"
      ]
     },
     "execution_count": 4,
     "metadata": {},
     "output_type": "execute_result"
    }
   ],
   "source": [
    "val listeEntiers = List(1, 2, 3, 4, 5)\n",
    "val verifierPresence = verifierPresenceEntier(listeEntiers)\n",
    "\n",
    "println(verifierPresence(3))\n",
    "println(verifierPresence(6))\n"
   ]
  },
  {
   "cell_type": "code",
   "execution_count": 5,
   "id": "6f511844",
   "metadata": {},
   "outputs": [
    {
     "data": {
      "text/plain": [
       "defined \u001b[32mfunction\u001b[39m \u001b[36mverifierPresenceChaine\u001b[39m"
      ]
     },
     "execution_count": 5,
     "metadata": {},
     "output_type": "execute_result"
    }
   ],
   "source": [
    "//fonction liste de chaines\n",
    "def verifierPresenceChaine(liste: List[String]): (String => Boolean) = {\n",
    "  (chaine: String) => liste.contains(chaine)\n",
    "}\n"
   ]
  },
  {
   "cell_type": "code",
   "execution_count": 6,
   "id": "b9f5746b",
   "metadata": {},
   "outputs": [
    {
     "name": "stdout",
     "output_type": "stream",
     "text": [
      "true\n",
      "false\n"
     ]
    },
    {
     "data": {
      "text/plain": [
       "\u001b[36mlisteChaines\u001b[39m: \u001b[32mList\u001b[39m[\u001b[32mString\u001b[39m] = \u001b[33mList\u001b[39m(\u001b[32m\"Hello\"\u001b[39m, \u001b[32m\"Bonjour\"\u001b[39m, \u001b[32m\"Hola\"\u001b[39m, \u001b[32m\"Ciao\"\u001b[39m)\n",
       "\u001b[36mverifierPresence\u001b[39m: \u001b[32mString\u001b[39m => \u001b[32mBoolean\u001b[39m = ammonite.$sess.cmd4$Helper$$Lambda$2403/0x0000000800bfa040@7aa04a9d"
      ]
     },
     "execution_count": 6,
     "metadata": {},
     "output_type": "execute_result"
    }
   ],
   "source": [
    "val listeChaines = List(\"Hello\", \"Bonjour\", \"Hola\", \"Ciao\")\n",
    "val verifierPresence = verifierPresenceChaine(listeChaines)\n",
    "\n",
    "println(verifierPresence(\"Bonjour\")) \n",
    "println(verifierPresence(\"Guten Tag\")) \n"
   ]
  },
  {
   "cell_type": "code",
   "execution_count": null,
   "id": "2ba1e7fb",
   "metadata": {},
   "outputs": [],
   "source": []
  }
 ],
 "metadata": {
  "kernelspec": {
   "display_name": "Scala",
   "language": "scala",
   "name": "scala"
  },
  "language_info": {
   "codemirror_mode": "text/x-scala",
   "file_extension": ".sc",
   "mimetype": "text/x-scala",
   "name": "scala",
   "nbconvert_exporter": "script",
   "version": "2.12.11"
  }
 },
 "nbformat": 4,
 "nbformat_minor": 5
}
